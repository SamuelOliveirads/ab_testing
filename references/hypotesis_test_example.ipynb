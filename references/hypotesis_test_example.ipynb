{
 "cells": [
  {
   "cell_type": "markdown",
   "metadata": {},
   "source": [
    "# 0.1 Imports"
   ]
  },
  {
   "cell_type": "code",
   "execution_count": 37,
   "metadata": {},
   "outputs": [],
   "source": [
    "import numpy as np\n",
    "import pandas as pd\n",
    "import seaborn as sns\n",
    "from scipy.stats import ttest_1samp, shapiro, ttest_ind, mannwhitneyu, f_oneway\n",
    "from statsmodels.stats.multicomp import pairwise_tukeyhsd"
   ]
  },
  {
   "cell_type": "markdown",
   "metadata": {},
   "source": [
    "# 0.2 Example 1 - One Sample Test"
   ]
  },
  {
   "cell_type": "code",
   "execution_count": 3,
   "metadata": {},
   "outputs": [
    {
     "name": "stdout",
     "output_type": "stream",
     "text": [
      "p-value 0.12014460742498101\n",
      "Falha em rejeitar a hipótese nula\n"
     ]
    }
   ],
   "source": [
    "df = [14, 14, 16, 13, 12, 17, 15, 14, 15, 13, 15, 14]\n",
    "\n",
    "# Ho: u = 15 (A altura média das espécies das plantas, de fato, é 15 cm) \n",
    "# H1: u <> 15 (A altura média das espécies das plantas difere de 15 cm) \n",
    "\n",
    "statistic, pvalue = ttest_1samp(df, popmean=15)\n",
    "print(f'p-value {pvalue}')\n",
    "\n",
    "alpha = 0.05 # Nível de aleatoriedade\n",
    "if pvalue < alpha:\n",
    "    print('Rejeita a hipótese nula') # As espécies são diferentes\n",
    "else:\n",
    "    print('Falha em rejeitar a hipótese nula') # Não é posível concluir, \n",
    "        # necessário mais dados ou uma diferença de altura maior\n",
    "\n"
   ]
  },
  {
   "cell_type": "markdown",
   "metadata": {},
   "source": [
    "# 0.2 Example 2 - Two Sample Test"
   ]
  },
  {
   "cell_type": "code",
   "execution_count": 4,
   "metadata": {},
   "outputs": [
    {
     "name": "stdout",
     "output_type": "stream",
     "text": [
      "15.15\n",
      "15.8\n"
     ]
    }
   ],
   "source": [
    "df1 = np.array([14, 15, 15, 16, 13, 8, 14, 17, 16, 14, 19, 20, 21, 15, 15, 16, 16, 13, 14, 12])\n",
    "df2 = np.array([15, 17, 14, 17, 14, 8, 12, 19, 19, 14, 17, 22, 24, 16, 13, 16, 13, 18, 15, 13])\n",
    "\n",
    "# H0: u1 = u2 (A altura média das espécies dos grupos são iguais)\n",
    "# H1: u <> 15 (A altura média dos grupos são diferentes)\n",
    "\n",
    "print(np.mean(df1))\n",
    "print(np.mean(df2))"
   ]
  },
  {
   "cell_type": "code",
   "execution_count": 5,
   "metadata": {},
   "outputs": [
    {
     "name": "stdout",
     "output_type": "stream",
     "text": [
      "p-value: 0.2267739325761795\n",
      "p-value: 0.6782065033912659\n",
      "\n",
      "Var 1: 7.727500000000001\n",
      "Var 2: 12.260000000000002\n",
      "\n",
      "p-value: 0.5300471010405257\n",
      "Falha em rejeitar a hipótese nula\n"
     ]
    }
   ],
   "source": [
    "# Condições paramétricas\n",
    "# 1. Amostras independentes\n",
    "# 2. Normalmente distribuidos\n",
    "\n",
    "# Teste de normalidade - Shapiro\n",
    "# H0: Distribuição Normalmente distribuida\n",
    "# H1: Distribuição não normal\n",
    "\n",
    "# if pvalue < alpha: \n",
    "#   print('Rejeito a hipótese nula')\n",
    "#   pvalue = 0.00001 - Digo que é normal\n",
    "# else:\n",
    "#   print('Falha em rejeitar a hipótese nula')\n",
    "#   pvalue = 0.89392 - Não é normal\n",
    "\n",
    "stats1, pvalue1 = shapiro(df1)\n",
    "print(f'p-value: {pvalue1}')\n",
    "\n",
    "stats2, pvalue2 = shapiro(df2)\n",
    "print(f'p-value: {pvalue2}')\n",
    "\n",
    "# 2. Variancias iguais - Ok\n",
    "var1 = np.var(df1)\n",
    "var2 = np.var(df2)\n",
    "\n",
    "print(f'\\nVar 1: {var1}')\n",
    "print(f'Var 2: {var2}')\n",
    "\n",
    "diff_var = var2/var1\n",
    "\n",
    "if diff_var < 4: # Se a diff da variancia for menor que 4 pode-se dizer que é igual\n",
    "    var_equal = True\n",
    "else:\n",
    "    var_equal = False\n",
    "\n",
    "stats, pvalue = ttest_ind(df1, df2, equal_var=var_equal)\n",
    "print(f'\\np-value: {pvalue}')\n",
    "\n",
    "alpha = 0.05\n",
    "if pvalue < alpha:\n",
    "    print('Rejeita a hipótese nula') # As espécies são diferentes\n",
    "else:\n",
    "    print('Falha em rejeitar a hipótese nula') # Não é posível concluir, \n",
    "        # necessário mais dados ou uma diferença de altura maior"
   ]
  },
  {
   "cell_type": "markdown",
   "metadata": {},
   "source": [
    "# 0.3 Example 3 - Mann-Whitney U-test (Condições paramétricas não satisfeitas)"
   ]
  },
  {
   "cell_type": "code",
   "execution_count": 10,
   "metadata": {},
   "outputs": [
    {
     "name": "stdout",
     "output_type": "stream",
     "text": [
      "p-value: 0.0005459139938466251\n",
      "p-value: 0.9021514058113098\n",
      "\n",
      "Var 1: 48.743055555555564\n",
      "Var 2: 9.6875\n",
      "\n",
      "p-value: 0.07217495133598324\n",
      "Falha em rejeitar a hipótese nula\n"
     ]
    }
   ],
   "source": [
    "df1 = [20, 23, 21, 20, 18, 17, 18, 14, 20, 24, 43, 19]\n",
    "df2 = [24, 25, 21, 22, 23, 18, 17, 28, 24, 27, 21, 23]\n",
    "\n",
    "# H0: u1 = u2 (A altura média das espécies dos grupos são iguais)\n",
    "# H1: u <> 15 (A altura média dos grupos são diferentes)\n",
    "\n",
    "# Condições paramétricas\n",
    "# 1. Amostras independentes\n",
    "# 2. Normalmente distribuidos\n",
    "\n",
    "# Teste de normalidade - Shapiro\n",
    "# H0: Distribuição Normalmente distribuida\n",
    "# H1: Distribuição não normal\n",
    "\n",
    "# if pvalue < alpha: \n",
    "#   print('Rejeito a hipótese nula')\n",
    "#   pvalue = 0.00001 - Digo que é normal\n",
    "# else:\n",
    "#   print('Falha em rejeitar a hipótese nula')\n",
    "#   pvalue = 0.89392 - Não é normal\n",
    "\n",
    "stats1, pvalue1 = shapiro(df1)\n",
    "print(f'p-value: {pvalue1}')\n",
    "\n",
    "stats2, pvalue2 = shapiro(df2)\n",
    "print(f'p-value: {pvalue2}')\n",
    "\n",
    "# 2. Variancias iguais - Ok\n",
    "var1 = np.var(df1)\n",
    "var2 = np.var(df2)\n",
    "\n",
    "print(f'\\nVar 1: {var1}')\n",
    "print(f'Var 2: {var2}')\n",
    "\n",
    "diff_var = var2/var1\n",
    "\n",
    "if diff_var < 4: # Se a diff da variancia for menor que 4 pode-se dizer que é igual\n",
    "    var_equal = True\n",
    "else:\n",
    "    var_equal = False\n",
    "\n",
    "stats, pvalue = mannwhitneyu(df1, df2)\n",
    "print(f'\\np-value: {pvalue}')\n",
    "\n",
    "alpha = 0.05\n",
    "if pvalue < alpha:\n",
    "    print('Rejeita a hipótese nula') # As espécies são diferentes\n",
    "else:\n",
    "    print('Falha em rejeitar a hipótese nula') # Não é posível concluir, \n",
    "        # necessário mais dados ou uma diferença de altura maior"
   ]
  },
  {
   "cell_type": "markdown",
   "metadata": {},
   "source": [
    "# 0.4 Example 4 - "
   ]
  },
  {
   "cell_type": "code",
   "execution_count": 14,
   "metadata": {},
   "outputs": [],
   "source": [
    "df = pd.DataFrame({'A': [25, 30, 28, 36, 29],\n",
    "                    'B': [45, 55, 29, 56, 40],\n",
    "                    'C': [30, 29, 33, 37, 27],\n",
    "                    'D': [54, 60, 51, 62, 73]})"
   ]
  },
  {
   "cell_type": "code",
   "execution_count": 16,
   "metadata": {},
   "outputs": [
    {
     "data": {
      "text/html": [
       "<div>\n",
       "<style scoped>\n",
       "    .dataframe tbody tr th:only-of-type {\n",
       "        vertical-align: middle;\n",
       "    }\n",
       "\n",
       "    .dataframe tbody tr th {\n",
       "        vertical-align: top;\n",
       "    }\n",
       "\n",
       "    .dataframe thead th {\n",
       "        text-align: right;\n",
       "    }\n",
       "</style>\n",
       "<table border=\"1\" class=\"dataframe\">\n",
       "  <thead>\n",
       "    <tr style=\"text-align: right;\">\n",
       "      <th></th>\n",
       "      <th>index</th>\n",
       "      <th>treatment</th>\n",
       "      <th>value</th>\n",
       "    </tr>\n",
       "  </thead>\n",
       "  <tbody>\n",
       "    <tr>\n",
       "      <th>0</th>\n",
       "      <td>0</td>\n",
       "      <td>A</td>\n",
       "      <td>25</td>\n",
       "    </tr>\n",
       "    <tr>\n",
       "      <th>1</th>\n",
       "      <td>1</td>\n",
       "      <td>A</td>\n",
       "      <td>30</td>\n",
       "    </tr>\n",
       "    <tr>\n",
       "      <th>2</th>\n",
       "      <td>2</td>\n",
       "      <td>A</td>\n",
       "      <td>28</td>\n",
       "    </tr>\n",
       "    <tr>\n",
       "      <th>3</th>\n",
       "      <td>3</td>\n",
       "      <td>A</td>\n",
       "      <td>36</td>\n",
       "    </tr>\n",
       "    <tr>\n",
       "      <th>4</th>\n",
       "      <td>4</td>\n",
       "      <td>A</td>\n",
       "      <td>29</td>\n",
       "    </tr>\n",
       "  </tbody>\n",
       "</table>\n",
       "</div>"
      ],
      "text/plain": [
       "   index treatment  value\n",
       "0      0         A     25\n",
       "1      1         A     30\n",
       "2      2         A     28\n",
       "3      3         A     36\n",
       "4      4         A     29"
      ]
     },
     "execution_count": 16,
     "metadata": {},
     "output_type": "execute_result"
    }
   ],
   "source": [
    "df_melt = pd.melt(df.reset_index(), id_vars=['index'], value_vars=['A', 'B', 'C', 'D'])\n",
    "df_melt.columns = ['index', 'treatment', 'value']\n",
    "df_melt.head()"
   ]
  },
  {
   "cell_type": "code",
   "execution_count": 20,
   "metadata": {},
   "outputs": [
    {
     "data": {
      "image/png": "[encoded data removed]",
      "text/plain": [
       "<Figure size 640x480 with 1 Axes>"
      ]
     },
     "metadata": {},
     "output_type": "display_data"
    }
   ],
   "source": [
    "sns.boxplot(x='treatment', y='value', data=df_melt);"
   ]
  },
  {
   "cell_type": "code",
   "execution_count": 35,
   "metadata": {},
   "outputs": [
    {
     "name": "stdout",
     "output_type": "stream",
     "text": [
      "p_value - Grupo A: 0.6075581908226013\n",
      "p_value - Grupo B: 0.5723677277565002\n",
      "p_value - Grupo C: 0.7583119869232178\n",
      "p_value - Grupo D: 0.7002365589141846\n",
      "\n",
      "variance - Grupo A: 13.040000000000001\n",
      "variance - Grupo B: 100.4\n",
      "variance - Grupo C: 12.16\n",
      "variance - Grupo D: 58.0\n"
     ]
    }
   ],
   "source": [
    "stat, p_value_a = shapiro(df['A'])\n",
    "stat, p_value_b = shapiro(df['B'])\n",
    "stat, p_value_c = shapiro(df['C'])\n",
    "stat, p_value_d = shapiro(df['D'])\n",
    "\n",
    "print(f'p_value - Grupo A: {p_value_a}')\n",
    "print(f'p_value - Grupo B: {p_value_b}')\n",
    "print(f'p_value - Grupo C: {p_value_c}')\n",
    "print(f'p_value - Grupo D: {p_value_d}')\n",
    "\n",
    "print(f'\\nvariance - Grupo A: {np.var(df[\"A\"])}')\n",
    "print(f'variance - Grupo B: {np.var(df[\"B\"])}')\n",
    "print(f'variance - Grupo C: {np.var(df[\"C\"])}')\n",
    "print(f'variance - Grupo D: {np.var(df[\"D\"])}')"
   ]
  },
  {
   "cell_type": "code",
   "execution_count": 39,
   "metadata": {},
   "outputs": [
    {
     "name": "stdout",
     "output_type": "stream",
     "text": [
      "p-value: 2.639241146210922e-05\n",
      "Rejeita a hipótese nula\n"
     ]
    }
   ],
   "source": [
    "stats, pvalue = f_oneway(df['A'], df['B'], df['C'], df['D'])\n",
    "print(f'p-value: {pvalue}')\n",
    "\n",
    "# Ho: Não há diferença na altura média\n",
    "# H1: Há diferença na altura média\n",
    "\n",
    "alpha = 0.05\n",
    "\n",
    "if pvalue < alpha:\n",
    "    print('Rejeita a hipótese nula')\n",
    "else:\n",
    "    print('Falha em rejeitar a hipótese nula')"
   ]
  },
  {
   "cell_type": "code",
   "execution_count": 41,
   "metadata": {},
   "outputs": [
    {
     "name": "stdout",
     "output_type": "stream",
     "text": [
      "Multiple Comparison of Means - Tukey HSD, FWER=0.05\n",
      "===================================================\n",
      "group1 group2 meandiff p-adj   lower  upper  reject\n",
      "---------------------------------------------------\n",
      "     A      B     15.4 0.0251   1.694 29.106   True\n",
      "     A      C      1.6 0.9867 -12.106 15.306  False\n",
      "     A      D     30.4 0.0001  16.694 44.106   True\n",
      "     B      C    -13.8 0.0482 -27.506 -0.094   True\n",
      "     B      D     15.0 0.0296   1.294 28.706   True\n",
      "     C      D     28.8 0.0001  15.094 42.506   True\n",
      "---------------------------------------------------\n"
     ]
    }
   ],
   "source": [
    "tukey = pairwise_tukeyhsd(endog=df_melt['value'], groups=df_melt['treatment'], alpha=alpha)\n",
    "\n",
    "print(tukey)"
   ]
  }
 ],
 "metadata": {
  "kernelspec": {
   "display_name": "Python 3.9.15 ('ab_test')",
   "language": "python",
   "name": "python3"
  },
  "language_info": {
   "codemirror_mode": {
    "name": "ipython",
    "version": 3
   },
   "file_extension": ".py",
   "mimetype": "text/x-python",
   "name": "python",
   "nbconvert_exporter": "python",
   "pygments_lexer": "ipython3",
   "version": "3.9.15"
  },
  "orig_nbformat": 4,
  "vscode": {
   "interpreter": {
    "hash": "5490ec86cf7067665fe13edd797244745b642a59563f8347e0ac4e4fed34c5cc"
   }
  }
 },
 "nbformat": 4,
 "nbformat_minor": 2
}
